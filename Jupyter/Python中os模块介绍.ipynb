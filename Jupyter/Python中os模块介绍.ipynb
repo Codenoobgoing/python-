{
 "cells": [
  {
   "cell_type": "markdown",
   "metadata": {},
   "source": [
    "# python中os模块的介绍"
   ]
  },
  {
   "cell_type": "markdown",
   "metadata": {},
   "source": [
    "## 什么是os模块"
   ]
  },
  {
   "cell_type": "markdown",
   "metadata": {},
   "source": [
    "OS模块是Python标准库中的一个用于访问操作系统功能的模块。\n",
    "使用OS模块中提供的接口，可以实现跨平台访问。"
   ]
  },
  {
   "cell_type": "markdown",
   "metadata": {},
   "source": [
    "## os模块和sys模块的区别"
   ]
  },
  {
   "cell_type": "markdown",
   "metadata": {},
   "source": [
    "os模块: This module provides a portable way of using operating system dependent functionality.\n",
    "\n",
    "这个模块提供了一种方便的使用操作系统函数的方法。"
   ]
  },
  {
   "cell_type": "markdown",
   "metadata": {},
   "source": [
    "sys模块: This module provides access to some variables used or maintained by the interpreter and to functions that interact strongly with the interpreter.\n",
    "\n",
    "这个模块可供访问由解释器使用或维护的变量和与解释器进行交互的函数。"
   ]
  },
  {
   "cell_type": "markdown",
   "metadata": {},
   "source": [
    "总结就是：\n",
    "\n",
    "os模块负责程序与操作系统的交互，提供了访问操作系统底层的接口;\n",
    "\n",
    "sys模块负责程序与python解释器的交互，提供了一系列的函数和变量，用于操控python的运行时环境。"
   ]
  },
  {
   "cell_type": "markdown",
   "metadata": {},
   "source": [
    "## os模块的通用操作"
   ]
  },
  {
   "cell_type": "markdown",
   "metadata": {},
   "source": [
    "### 1系统操作"
   ]
  },
  {
   "cell_type": "markdown",
   "metadata": {},
   "source": [
    "os.sep:主要用于系统路径的分隔符\n",
    "\n",
    "os.name:正在使用的平台\n",
    "\n",
    "os.getenv:读取环境变量\n",
    "\n",
    "os.getcwd( )方法获取代码当前工作路径"
   ]
  },
  {
   "cell_type": "code",
   "execution_count": 11,
   "metadata": {},
   "outputs": [
    {
     "name": "stdout",
     "output_type": "stream",
     "text": [
      "\\\n",
      "nt\n",
      "D:\\Anaconda3;D:\\Anaconda3\\Library\\mingw-w64\\bin;D:\\Anaconda3\\Library\\usr\\bin;D:\\Anaconda3\\Library\\bin;D:\\Anaconda3\\Scripts;C:\\Windows\\system32;C:\\Windows;C:\\Windows\\System32\\Wbem;C:\\Windows\\System32\\WindowsPowerShell\\v1.0\\;C:\\Windows\\System32\\OpenSSH\\;C:\\Users\\Administrator\\.dnx\\bin;C:\\Program Files\\Microsoft DNX\\Dnvm\\;C:\\Program Files\\Microsoft SQL Server\\120\\Tools\\Binn\\;D:\\MATLAB\\R2014b\\runtime\\win64;D:\\MATLAB\\R2014b\\bin;D:\\MATLAB\\R2014b\\polyspace\\bin;C:\\Program Files\\Microsoft SQL Server\\130\\Tools\\Binn\\;C:\\Program Files (x86)\\IVI Foundation\\VISA\\WinNT\\Bin\\;C:\\Program Files\\IVI Foundation\\VISA\\Win64\\Bin\\;C:\\Program Files (x86)\\IVI Foundation\\VISA\\WinNT\\Bin;D:\\Anaconda3;D:\\Anaconda3\\Library\\mingw-w64\\bin;D:\\Anaconda3\\Library\\usr\\bin;D:\\Anaconda3\\Library\\bin;D:\\Anaconda3\\Scripts;C:\\Users\\Administrator\\AppData\\Local\\Microsoft\\WindowsApps\n"
     ]
    },
    {
     "data": {
      "text/plain": [
       "'C:\\\\Users\\\\Administrator'"
      ]
     },
     "execution_count": 11,
     "metadata": {},
     "output_type": "execute_result"
    }
   ],
   "source": [
    "import os\n",
    "print(os.sep)\n",
    "print(os.name)\n",
    "print(os.getenv('path'))\n",
    "os.getcwd()"
   ]
  },
  {
   "cell_type": "markdown",
   "metadata": {},
   "source": [
    "### 2目录操作（增删改减）"
   ]
  },
  {
   "cell_type": "markdown",
   "metadata": {},
   "source": [
    "os.listdir()方法获取当前工作文件夹内的文件夹或文件\n",
    "\n",
    "os.scandir() 方法获取当前工作文件夹内的文件夹或文件\n",
    "\n",
    "os.makedirs() 创建文件夹\n",
    "\n",
    "os.system(command) #用来运行shell命令\n",
    "\n",
    "os.removedirs（）删除指定目录，如果指定目录为空就删除，如果上级目录也空，也删除。如果上级目录不空就不删"
   ]
  },
  {
   "cell_type": "markdown",
   "metadata": {},
   "source": [
    "### os.path模块 "
   ]
  },
  {
   "cell_type": "markdown",
   "metadata": {},
   "source": [
    "os.path.isfile()和os.path.isdir()函数分别检验给出的路径是一个文件还是目录,返回bool值\n",
    "\n",
    "os.path.exists()函数用来检验给出的路径是否真地存在 返回bool\n",
    "\n",
    "os.path.getsize(name):获得文件大小，如果name是目录返回0L 返回long 单位是字节\n",
    "\n",
    "os.path.abspath(name):获得绝对路径"
   ]
  },
  {
   "cell_type": "code",
   "execution_count": 31,
   "metadata": {},
   "outputs": [
    {
     "data": {
      "text/plain": [
       "['和大白一起学人工智能 - Anaconda - 算法与编程之美 - CSDN博客.html',\n",
       " '和大白一起学人工智能 - Anaconda - 算法与编程之美 - CSDN博客_files']"
      ]
     },
     "execution_count": 31,
     "metadata": {},
     "output_type": "execute_result"
    }
   ],
   "source": [
    "import os\n",
    "os.listdir(\"E:\\\\陈茜\")"
   ]
  },
  {
   "cell_type": "markdown",
   "metadata": {},
   "source": [
    "批量修改文件名↓"
   ]
  },
  {
   "cell_type": "code",
   "execution_count": 1,
   "metadata": {},
   "outputs": [
    {
     "name": "stdout",
     "output_type": "stream",
     "text": [
      "请输入文件路径(结尾加上/)：F:\\test7-11/\n",
      "F:\\test7-11/\\123 - 副本 (10).txt ======> F:\\test7-11/\\a1.txt\n",
      "F:\\test7-11/\\123 - 副本 (2).txt ======> F:\\test7-11/\\a2.txt\n",
      "F:\\test7-11/\\123 - 副本 (3).txt ======> F:\\test7-11/\\a3.txt\n",
      "F:\\test7-11/\\123 - 副本 (4).txt ======> F:\\test7-11/\\a4.txt\n",
      "F:\\test7-11/\\123 - 副本 (5).txt ======> F:\\test7-11/\\a5.txt\n",
      "F:\\test7-11/\\123 - 副本 (6).txt ======> F:\\test7-11/\\a6.txt\n",
      "F:\\test7-11/\\123 - 副本 (7).txt ======> F:\\test7-11/\\a7.txt\n",
      "F:\\test7-11/\\123 - 副本 (8).txt ======> F:\\test7-11/\\a8.txt\n",
      "F:\\test7-11/\\123 - 副本 (9).txt ======> F:\\test7-11/\\a9.txt\n",
      "F:\\test7-11/\\123 - 副本.txt ======> F:\\test7-11/\\a10.txt\n",
      "F:\\test7-11/\\123.txt ======> F:\\test7-11/\\a11.txt\n"
     ]
    }
   ],
   "source": [
    "import os\n",
    "path=input('请输入文件路径(结尾加上/)：')       \n",
    "\n",
    "#获取该目录下所有文件，存入列表中\n",
    "fileList=os.listdir(path)\n",
    "\n",
    "n=0\n",
    "for i in fileList:\n",
    "    \n",
    "    #设置旧文件名（就是路径+文件名）\n",
    "    oldname=path+ os.sep + fileList[n]   # os.sep添加系统分隔符\n",
    "    \n",
    "    #设置新文件名\n",
    "    newname=path+ os.sep +'a'+str(n+1)+'.txt'\n",
    "    \n",
    "    os.rename(oldname,newname)   #用os模块中的rename方法对文件改名\n",
    "    print(oldname,'======>',newname)\n",
    "    \n",
    "    n+=1"
   ]
  },
  {
   "cell_type": "code",
   "execution_count": 7,
   "metadata": {},
   "outputs": [
    {
     "data": {
      "text/plain": [
       "'\\r\\n'"
      ]
     },
     "execution_count": 7,
     "metadata": {},
     "output_type": "execute_result"
    }
   ],
   "source": [
    "import os\n",
    "os.linesep"
   ]
  },
  {
   "cell_type": "code",
   "execution_count": 8,
   "metadata": {},
   "outputs": [
    {
     "name": "stdout",
     "output_type": "stream",
     "text": [
      "您使用的操作系统是windows\n",
      "使用windows表示的特定路径分割符是 \\\n",
      "您的电脑系统的终止符效果 \r\n",
      "\n",
      "您运行本程序所在目录是 C:\\Users\\Pico\\Desktop\n",
      "你电脑的Path环境变量为 C:\\Users\\Pico\\Anaconda3;C:\\Users\\Pico\\Anaconda3\\Library\\mingw-w64\\bin;C:\\Users\\Pico\\Anaconda3\\Library\\usr\\bin;C:\\Users\\Pico\\Anaconda3\\Library\\bin;C:\\Users\\Pico\\Anaconda3\\Scripts;C:\\Windows\\system32;C:\\Windows;C:\\Windows\\System32\\Wbem;C:\\Windows\\System32\\WindowsPowerShell\\v1.0\\;C:\\Windows\\System32\\OpenSSH\\;C:\\Program Files\\Microsoft SQL Server\\110\\Tools\\Binn\\;G:\\opencv\\build\\x64\\vc12\\bin;G:\\opencv\\build\\x86\\vc12\\bin;C:\\Program Files\\Git\\cmd;C:\\Users\\Pico\\Anaconda3\\Scripts;C:\\Users\\Pico\\Anaconda3\\envs\\python3\\Scripts;C:\\Users\\Pico\\AppData\\Local\\Microsoft\\WindowsApps;;F:\\Pycharm\\PyCharm Community Edition 2019.1.3\\bin;\n",
      "你当前文件夹中的文件有：\n",
      "['.ipynb_checkpoints', '20190705-21', '360安全浏览器.lnk', '3_joint_refine_exe', 'Alex', 'certificates', 'ConsoleApplication1', 'CV2', 'CV2-7.1', 'desktop.ini', 'FileZilla.lnk', 'Github入门与实践.pdf', 'HTC', 'PicoTech_CV2_Trial', 'PicoTech_CV2_Trial.zip', 'PicoZenseSDK_Windows_20190128_V2.3.8.3_DCAM710', 'PicoZenseSDK_Windows_20190128_V2.3.8.3_DCAM710.zip', 'Pychon初识与Camera基础介绍1(1).ipynb', 'Python中os模块介绍.ipynb', 'Release', 'safearea626', 'Visual Studio 2013.lnk', 'vs_installer.version.json', 'Windows环境Git_Gerrit简易操作指南v1.6(1).pptx', 'y', '[feiq]FeiQ.exe', '关机时间.png', '廖雪峰 2018年官方最新Python3教程', '廖雪峰 2018年官方最新Python3教程.rar', '新建文件夹', '新建文本文档.txt', '百度网盘.lnk', '迅雷.lnk']\n",
      "n文件不存在\n",
      "咱们来删除一个文件，删除后的结果：\n",
      "['.ipynb_checkpoints', '20190705-21', '360安全浏览器.lnk', '3_joint_refine_exe', 'Alex', 'certificates', 'ConsoleApplication1', 'CV2', 'CV2-7.1', 'desktop.ini', 'FileZilla.lnk', 'Github入门与实践.pdf', 'HTC', 'PicoTech_CV2_Trial', 'PicoTech_CV2_Trial.zip', 'PicoZenseSDK_Windows_20190128_V2.3.8.3_DCAM710', 'PicoZenseSDK_Windows_20190128_V2.3.8.3_DCAM710.zip', 'Pychon初识与Camera基础介绍1(1).ipynb', 'Python中os模块介绍.ipynb', 'Release', 'safearea626', 'Visual Studio 2013.lnk', 'vs_installer.version.json', 'Windows环境Git_Gerrit简易操作指南v1.6(1).pptx', 'y', '[feiq]FeiQ.exe', '关机时间.png', '廖雪峰 2018年官方最新Python3教程', '廖雪峰 2018年官方最新Python3教程.rar', '新建文件夹', '新建文本文档.txt', '百度网盘.lnk', '迅雷.lnk']\n"
     ]
    }
   ],
   "source": [
    "import os\n",
    "\n",
    "system = os.name;  # 获取系统的类型\n",
    "if (system == \"nt\"):\n",
    "    print (\"您使用的操作系统是windows\");\n",
    "    print (\"使用windows表示的特定路径分割符是 \" + os.sep);  \n",
    "    print (\"您的电脑系统的换行符效果 \" + os.linesep); \n",
    "else:\n",
    "    print(\"您使用的操作系统是Linux\");\n",
    "    print(\"使用windows表示的特定路径分割符是 \" + os.sep);\n",
    "    print(\"您的电脑系统的终止符是 \" + os.linesep);\n",
    "\n",
    "path = os.getcwd();  \n",
    "print(\"您运行本程序所在目录是 \" + path);\n",
    "\n",
    "print(\"你电脑的Path环境变量为 \" + os.getenv(\"Path\"));  \n",
    "\n",
    "print(\"你当前文件夹中的文件有：\");\n",
    "print(os.listdir(path));                                          \n",
    "if (os.path.exists(\"test.txt\")):\n",
    "    os.remove(\"test.txt\")  \n",
    "    print(\"n删除成功\");\n",
    "else:\n",
    "    print(\"n文件不存在\");\n",
    "print(\"咱们来删除一个文件，删除后的结果：\");\n",
    "print (os.listdir(path));"
   ]
  },
  {
   "cell_type": "code",
   "execution_count": null,
   "metadata": {},
   "outputs": [],
   "source": []
  }
 ],
 "metadata": {
  "kernelspec": {
   "display_name": "Python 3",
   "language": "python",
   "name": "python3"
  },
  "language_info": {
   "codemirror_mode": {
    "name": "ipython",
    "version": 3
   },
   "file_extension": ".py",
   "mimetype": "text/x-python",
   "name": "python",
   "nbconvert_exporter": "python",
   "pygments_lexer": "ipython3",
   "version": "3.7.3"
  }
 },
 "nbformat": 4,
 "nbformat_minor": 2
}
